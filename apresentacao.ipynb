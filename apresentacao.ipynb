{
 "cells": [
  {
   "cell_type": "markdown",
   "metadata": {},
   "source": [
    "#### IMPORTANDO BIBLIOTECAS NECESSARIAS"
   ]
  },
  {
   "cell_type": "code",
   "execution_count": 1,
   "metadata": {},
   "outputs": [],
   "source": [
    "import pandas as pd\n",
    "from sklearn.preprocessing import StandardScaler\n",
    "from sklearn.model_selection import train_test_split\n",
    "from sklearn.linear_model import LinearRegression\n",
    "from sklearn.metrics import mean_absolute_error\n",
    "import matplotlib.pyplot as plt"
   ]
  },
  {
   "cell_type": "markdown",
   "metadata": {},
   "source": [
    "### Carregando e limpando dataset"
   ]
  },
  {
   "cell_type": "code",
   "execution_count": 3,
   "metadata": {},
   "outputs": [],
   "source": [
    "df = pd.read_csv('Dadoslimpos.csv', sep=';')"
   ]
  },
  {
   "cell_type": "code",
   "execution_count": 4,
   "metadata": {},
   "outputs": [],
   "source": [
    "# Convertendo colunas com vírgula como separador decimal para float\n",
    "columns_to_convert = [\n",
    "    'Density(P/Km2)', 'Birth Rate', 'Fertility Rate', 'Infant mortality', \n",
    "    'Life expectancy', 'Physicians per thousand', 'Co2-Emissions', 'CPI', \n",
    "    'CPI Change (%)', 'Out of pocket health expenditure', \n",
    "    'Population: Labor force participation (%)', 'GDP', 'Unemployment rate'\n",
    "]\n",
    "\n",
    "# Limpando as colunas substituindo vírgulas e convertendo para float\n",
    "for col in columns_to_convert:\n",
    "    if col in ['CPI Change (%)', 'Out of pocket health expenditure', 'Population: Labor force participation (%)', 'Unemployment rate']:\n",
    "        df[col] = df[col].str.replace(',', '.').str.replace('%', '').astype(float) / 100\n",
    "    else:\n",
    "        df[col] = df[col].str.replace(',', '.').astype(float)\n",
    "\n",
    "# Tirando a ultima coluna\n",
    "df = df.drop(df.columns[-1], axis=1)\n",
    "\n",
    "# Reordenando colunas para ter 'Expectativa de vida' como a última coluna\n",
    "cols = [col for col in df.columns if col != 'Life expectancy'] + ['Life expectancy']\n",
    "df = df[cols]"
   ]
  },
  {
   "cell_type": "markdown",
   "metadata": {},
   "source": [
    "### Dividindo o conjunto de dados em recursos e variável de destino"
   ]
  },
  {
   "cell_type": "code",
   "execution_count": 5,
   "metadata": {},
   "outputs": [],
   "source": [
    "x_dados = df.iloc[:, 0:14].values  # Atributos\n",
    "y_dados = df.iloc[:, 14].values    # Classe\n",
    "\n",
    "# Escalonamento\n",
    "scaler = StandardScaler()\n",
    "x_dados = scaler.fit_transform(x_dados)\n",
    "\n",
    "# Dividindo dados em conjuntos de treinamento e teste\n",
    "x_dados_treinamento, x_dados_teste, y_dados_treinamento, y_dados_teste = train_test_split(\n",
    "    x_dados, y_dados, test_size=0.15, random_state=0\n",
    ")"
   ]
  },
  {
   "cell_type": "markdown",
   "metadata": {},
   "source": [
    "### Criando o treinamento do modelo de regressão linear"
   ]
  },
  {
   "cell_type": "code",
   "execution_count": null,
   "metadata": {},
   "outputs": [],
   "source": [
    "regressor_multiplo = LinearRegression()\n",
    "regressor_multiplo.fit(x_dados_treinamento, y_dados_treinamento)\n",
    "\n",
    "# Exibindo coeficientes do modelo e pontuações R-quadrado\n",
    "print(\"Coeficiente do modelo:\", regressor_multiplo.coef_)\n",
    "print(\"R² treinamento:\", regressor_multiplo.score(x_dados_treinamento, y_dados_treinamento))\n",
    "print(\"R² teste:\", regressor_multiplo.score(x_dados_teste, y_dados_teste))"
   ]
  },
  {
   "cell_type": "markdown",
   "metadata": {},
   "source": [
    "### Fazendo previsões no conjunto de teste"
   ]
  },
  {
   "cell_type": "code",
   "execution_count": null,
   "metadata": {},
   "outputs": [],
   "source": [
    "previsoes = regressor_multiplo.predict(x_dados_teste)\n",
    "print(\"Previsões:\", previsoes)\n",
    "\n",
    "# Calculando e exibindo o erro absoluto médio\n",
    "mae = mean_absolute_error(y_dados_teste, previsoes)\n",
    "print(\"Erro Absoluto Médio:\", mae)\n"
   ]
  },
  {
   "cell_type": "markdown",
   "metadata": {},
   "source": [
    "### Diagrama de dispersão para comparar valores reais com previsões"
   ]
  },
  {
   "cell_type": "code",
   "execution_count": null,
   "metadata": {},
   "outputs": [],
   "source": [
    "plt.scatter(y_dados_teste, previsoes)\n",
    "plt.plot([y_dados_teste.min(), y_dados_teste.max()], [y_dados_teste.min(), y_dados_teste.max()], color='red', linestyle='--')\n",
    "plt.xlabel('Valores reais')\n",
    "plt.ylabel('Previsões')\n",
    "plt.title('Comparação entre valores reais e previsões')\n",
    "plt.show()"
   ]
  },
  {
   "cell_type": "markdown",
   "metadata": {},
   "source": [
    "### Analisando as relações entre variáveis ​​socioeconômicas e expectativa de vida"
   ]
  },
  {
   "cell_type": "code",
   "execution_count": null,
   "metadata": {},
   "outputs": [],
   "source": [
    "selected_vars = ['Density(P/Km2)', 'Infant mortality', 'Birth Rate']\n",
    "fig, axes = plt.subplots(1, 3, figsize=(18, 6))\n",
    "\n",
    "for i, var in enumerate(selected_vars):\n",
    "    ax = axes[i]\n",
    "    ax.scatter(df[var], df['Life expectancy'], alpha=0.5)\n",
    "    ax.set_xlabel(var)\n",
    "    ax.set_ylabel('Expectativa de vida')\n",
    "    ax.set_title(f'Relação entre {var} e Expectativa de vida')\n",
    "\n",
    "# Ajusta o layout para evitar sobreposição\n",
    "plt.tight_layout()\n",
    "plt.show()"
   ]
  },
  {
   "cell_type": "markdown",
   "metadata": {},
   "source": [
    "## Fazendo previsões com outros dados"
   ]
  },
  {
   "cell_type": "code",
   "execution_count": null,
   "metadata": {},
   "outputs": [],
   "source": [
    "# Carregando novos dados\n",
    "new_data = pd.read_csv('NovosDados.csv', sep=';')\n",
    "\n",
    "# Limpe novos dados de forma semelhante à que fiz para os dados de treinamento\n",
    "for col in columns_to_convert:\n",
    "    if new_data[col].dtype == 'object':\n",
    "        if col in ['CPI Change (%)', 'Out of pocket health expenditure', 'Population: Labor force participation (%)', 'Unemployment rate']:\n",
    "            new_data[col] = new_data[col].str.replace(',', '.').str.replace('%', '').astype(float) / 100\n",
    "        else:\n",
    "            new_data[col] = new_data[col].str.replace(',', '.').astype(float)\n",
    "\n",
    "# Convertendo colunas para numéricas e removendo a última coluna\n",
    "new_data[columns_to_convert] = new_data[columns_to_convert].apply(pd.to_numeric, errors='coerce')\n",
    "new_data = new_data[cols[:-1]]\n",
    "\n",
    "# Escalonando\n",
    "new_data_scaled = scaler.transform(new_data.values)\n",
    "\n",
    "# Fazendo previsões com os novos dados\n",
    "new_predictions = regressor_multiplo.predict(new_data_scaled)\n",
    "\n",
    "pd.set_option('display.max_columns', None)\n",
    "pd.set_option('display.width', None)\n",
    "\n",
    "print(\"Previsões sobre novos dados:\", new_predictions)\n",
    "\n",
    "# Adicionando as previsões aos novos dados e exibir os recursos relevantes\n",
    "new_data['Predicted Life Expectancy'] = new_predictions\n",
    "print(new_data[\n",
    "    [\n",
    "        'Density(P/Km2)','Infant mortality','CPI','CPI Change (%)', 'Out of pocket health expenditure', \n",
    "        'GDP', 'Unemployment rate', 'Predicted Life Expectancy'\n",
    "        ]\n",
    "    ].to_string(index=False))\n"
   ]
  },
  {
   "cell_type": "markdown",
   "metadata": {},
   "source": []
  }
 ],
 "metadata": {
  "kernelspec": {
   "display_name": "Python 3",
   "language": "python",
   "name": "python3"
  },
  "language_info": {
   "codemirror_mode": {
    "name": "ipython",
    "version": 3
   },
   "file_extension": ".py",
   "mimetype": "text/x-python",
   "name": "python",
   "nbconvert_exporter": "python",
   "pygments_lexer": "ipython3",
   "version": "3.12.2"
  }
 },
 "nbformat": 4,
 "nbformat_minor": 2
}
